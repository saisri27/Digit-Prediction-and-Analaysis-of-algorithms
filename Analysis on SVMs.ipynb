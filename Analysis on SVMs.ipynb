{
 "cells": [
  {
   "attachments": {},
   "cell_type": "markdown",
   "metadata": {},
   "source": [
    "# Analysis on SVMs\n"
   ]
  },
  {
   "attachments": {},
   "cell_type": "markdown",
   "id": "3de473e8",
   "metadata": {},
   "source": [
    "## Importing required libraries"
   ]
  },
  {
   "cell_type": "code",
   "execution_count": 2,
   "id": "21921c1e",
   "metadata": {},
   "outputs": [],
   "source": [
    "import numpy as np\n",
    "import pandas as pd\n",
    "\n",
    "from sklearn.model_selection import train_test_split\n",
    "from sklearn import preprocessing\n",
    "from sklearn.svm import SVC \n",
    "from sklearn.ensemble import RandomForestClassifier \n",
    "\n",
    "import matplotlib.pyplot as plt\n",
    "from sklearn.metrics import accuracy_score"
   ]
  },
  {
   "attachments": {},
   "cell_type": "markdown",
   "id": "dea3750b",
   "metadata": {},
   "source": [
    "## Reading Data"
   ]
  },
  {
   "cell_type": "code",
   "execution_count": 3,
   "id": "23ffe981",
   "metadata": {},
   "outputs": [
    {
     "data": {
      "text/html": [
       "<div>\n",
       "<style scoped>\n",
       "    .dataframe tbody tr th:only-of-type {\n",
       "        vertical-align: middle;\n",
       "    }\n",
       "\n",
       "    .dataframe tbody tr th {\n",
       "        vertical-align: top;\n",
       "    }\n",
       "\n",
       "    .dataframe thead th {\n",
       "        text-align: right;\n",
       "    }\n",
       "</style>\n",
       "<table border=\"1\" class=\"dataframe\">\n",
       "  <thead>\n",
       "    <tr style=\"text-align: right;\">\n",
       "      <th></th>\n",
       "      <th>label</th>\n",
       "      <th>pixel0</th>\n",
       "      <th>pixel1</th>\n",
       "      <th>pixel2</th>\n",
       "      <th>pixel3</th>\n",
       "      <th>pixel4</th>\n",
       "      <th>pixel5</th>\n",
       "      <th>pixel6</th>\n",
       "      <th>pixel7</th>\n",
       "      <th>pixel8</th>\n",
       "      <th>...</th>\n",
       "      <th>pixel774</th>\n",
       "      <th>pixel775</th>\n",
       "      <th>pixel776</th>\n",
       "      <th>pixel777</th>\n",
       "      <th>pixel778</th>\n",
       "      <th>pixel779</th>\n",
       "      <th>pixel780</th>\n",
       "      <th>pixel781</th>\n",
       "      <th>pixel782</th>\n",
       "      <th>pixel783</th>\n",
       "    </tr>\n",
       "  </thead>\n",
       "  <tbody>\n",
       "    <tr>\n",
       "      <th>0</th>\n",
       "      <td>1</td>\n",
       "      <td>0</td>\n",
       "      <td>0</td>\n",
       "      <td>0</td>\n",
       "      <td>0</td>\n",
       "      <td>0</td>\n",
       "      <td>0</td>\n",
       "      <td>0</td>\n",
       "      <td>0</td>\n",
       "      <td>0</td>\n",
       "      <td>...</td>\n",
       "      <td>0</td>\n",
       "      <td>0</td>\n",
       "      <td>0</td>\n",
       "      <td>0</td>\n",
       "      <td>0</td>\n",
       "      <td>0</td>\n",
       "      <td>0</td>\n",
       "      <td>0</td>\n",
       "      <td>0</td>\n",
       "      <td>0</td>\n",
       "    </tr>\n",
       "    <tr>\n",
       "      <th>1</th>\n",
       "      <td>0</td>\n",
       "      <td>0</td>\n",
       "      <td>0</td>\n",
       "      <td>0</td>\n",
       "      <td>0</td>\n",
       "      <td>0</td>\n",
       "      <td>0</td>\n",
       "      <td>0</td>\n",
       "      <td>0</td>\n",
       "      <td>0</td>\n",
       "      <td>...</td>\n",
       "      <td>0</td>\n",
       "      <td>0</td>\n",
       "      <td>0</td>\n",
       "      <td>0</td>\n",
       "      <td>0</td>\n",
       "      <td>0</td>\n",
       "      <td>0</td>\n",
       "      <td>0</td>\n",
       "      <td>0</td>\n",
       "      <td>0</td>\n",
       "    </tr>\n",
       "    <tr>\n",
       "      <th>2</th>\n",
       "      <td>1</td>\n",
       "      <td>0</td>\n",
       "      <td>0</td>\n",
       "      <td>0</td>\n",
       "      <td>0</td>\n",
       "      <td>0</td>\n",
       "      <td>0</td>\n",
       "      <td>0</td>\n",
       "      <td>0</td>\n",
       "      <td>0</td>\n",
       "      <td>...</td>\n",
       "      <td>0</td>\n",
       "      <td>0</td>\n",
       "      <td>0</td>\n",
       "      <td>0</td>\n",
       "      <td>0</td>\n",
       "      <td>0</td>\n",
       "      <td>0</td>\n",
       "      <td>0</td>\n",
       "      <td>0</td>\n",
       "      <td>0</td>\n",
       "    </tr>\n",
       "    <tr>\n",
       "      <th>3</th>\n",
       "      <td>4</td>\n",
       "      <td>0</td>\n",
       "      <td>0</td>\n",
       "      <td>0</td>\n",
       "      <td>0</td>\n",
       "      <td>0</td>\n",
       "      <td>0</td>\n",
       "      <td>0</td>\n",
       "      <td>0</td>\n",
       "      <td>0</td>\n",
       "      <td>...</td>\n",
       "      <td>0</td>\n",
       "      <td>0</td>\n",
       "      <td>0</td>\n",
       "      <td>0</td>\n",
       "      <td>0</td>\n",
       "      <td>0</td>\n",
       "      <td>0</td>\n",
       "      <td>0</td>\n",
       "      <td>0</td>\n",
       "      <td>0</td>\n",
       "    </tr>\n",
       "    <tr>\n",
       "      <th>4</th>\n",
       "      <td>0</td>\n",
       "      <td>0</td>\n",
       "      <td>0</td>\n",
       "      <td>0</td>\n",
       "      <td>0</td>\n",
       "      <td>0</td>\n",
       "      <td>0</td>\n",
       "      <td>0</td>\n",
       "      <td>0</td>\n",
       "      <td>0</td>\n",
       "      <td>...</td>\n",
       "      <td>0</td>\n",
       "      <td>0</td>\n",
       "      <td>0</td>\n",
       "      <td>0</td>\n",
       "      <td>0</td>\n",
       "      <td>0</td>\n",
       "      <td>0</td>\n",
       "      <td>0</td>\n",
       "      <td>0</td>\n",
       "      <td>0</td>\n",
       "    </tr>\n",
       "  </tbody>\n",
       "</table>\n",
       "<p>5 rows × 785 columns</p>\n",
       "</div>"
      ],
      "text/plain": [
       "   label  pixel0  pixel1  pixel2  pixel3  pixel4  pixel5  pixel6  pixel7  \\\n",
       "0      1       0       0       0       0       0       0       0       0   \n",
       "1      0       0       0       0       0       0       0       0       0   \n",
       "2      1       0       0       0       0       0       0       0       0   \n",
       "3      4       0       0       0       0       0       0       0       0   \n",
       "4      0       0       0       0       0       0       0       0       0   \n",
       "\n",
       "   pixel8  ...  pixel774  pixel775  pixel776  pixel777  pixel778  pixel779  \\\n",
       "0       0  ...         0         0         0         0         0         0   \n",
       "1       0  ...         0         0         0         0         0         0   \n",
       "2       0  ...         0         0         0         0         0         0   \n",
       "3       0  ...         0         0         0         0         0         0   \n",
       "4       0  ...         0         0         0         0         0         0   \n",
       "\n",
       "   pixel780  pixel781  pixel782  pixel783  \n",
       "0         0         0         0         0  \n",
       "1         0         0         0         0  \n",
       "2         0         0         0         0  \n",
       "3         0         0         0         0  \n",
       "4         0         0         0         0  \n",
       "\n",
       "[5 rows x 785 columns]"
      ]
     },
     "execution_count": 3,
     "metadata": {},
     "output_type": "execute_result"
    }
   ],
   "source": [
    "df = pd.read_csv('mnist.csv')\n",
    "df.head()"
   ]
  },
  {
   "cell_type": "code",
   "execution_count": 4,
   "id": "2751f228",
   "metadata": {},
   "outputs": [],
   "source": [
    "Y= df['label']\n",
    "X = df.drop(\"label\", axis = 'columns')"
   ]
  },
  {
   "attachments": {},
   "cell_type": "markdown",
   "id": "8c9acea4",
   "metadata": {},
   "source": [
    "## Normalizing data"
   ]
  },
  {
   "cell_type": "code",
   "execution_count": 5,
   "id": "b6882dac",
   "metadata": {},
   "outputs": [],
   "source": [
    "Xpro = preprocessing.StandardScaler().fit(X).transform(X.astype(float))"
   ]
  },
  {
   "cell_type": "code",
   "execution_count": 6,
   "id": "de6881a1",
   "metadata": {},
   "outputs": [],
   "source": [
    "X_train, X_test, Y_train, Y_test = train_test_split(Xpro,Y, test_size =0.5, random_state =0)"
   ]
  },
  {
   "cell_type": "code",
   "execution_count": 10,
   "id": "04a0c119",
   "metadata": {},
   "outputs": [
    {
     "name": "stdout",
     "output_type": "stream",
     "text": [
      "21000\n"
     ]
    }
   ],
   "source": [
    "print(len(Y_train))"
   ]
  },
  {
   "attachments": {},
   "cell_type": "markdown",
   "id": "d84c33cf",
   "metadata": {},
   "source": [
    "## Making SVM as Function"
   ]
  },
  {
   "cell_type": "code",
   "execution_count": 8,
   "id": "81dfed05",
   "metadata": {},
   "outputs": [],
   "source": [
    "def SVM(c, kernl, deg ,gama):\n",
    "    if c ==0:\n",
    "        c =1\n",
    "    if deg ==0:\n",
    "        deg =3\n",
    "    if gama ==0:\n",
    "        gama = 'scale'\n",
    "        \n",
    "    classifier = SVC(C= c , kernel =kernl, degree = deg, gamma = gama).fit(X_train, Y_train)\n",
    "    pred = classifier.predict(X_test)\n",
    "    \n",
    "    accu = accuracy_score(pred, Y_test)\n",
    "    \n",
    "    print(\"accuracy score =\", accu)\n",
    "    print(\"kernel used = \", kernl)\n",
    "    print(\"C = \", c)\n",
    "    print(\" degree = \", deg)\n",
    "    print(\"gamma  = \", gama)"
   ]
  },
  {
   "attachments": {},
   "cell_type": "markdown",
   "id": "3901a74c",
   "metadata": {},
   "source": [
    "\n",
    "C is regularization parameter. The strength of the regularization is inversely proportional to C.\n",
    "\n",
    "Kernel Specifies the kernel type to be used in the algorithm. If none is given, ‘rbf’ will be used. If a callable is given it is used to pre-compute the kernel matrix from data matrices.\n",
    "\n",
    "Degree of the polynomial kernel function (‘poly’).\n",
    "\n",
    "Gamma is Kernel coefficient for ‘rbf’, ‘poly’ and ‘sigmoid’.\n",
    "\n"
   ]
  },
  {
   "attachments": {},
   "cell_type": "markdown",
   "id": "e3ffe658",
   "metadata": {},
   "source": [
    "## SVM classifier (Linearly Non-Separable) "
   ]
  },
  {
   "attachments": {},
   "cell_type": "markdown",
   "id": "3a1f930a",
   "metadata": {},
   "source": [
    "#### 1) C =0.1"
   ]
  },
  {
   "cell_type": "code",
   "execution_count": 7,
   "id": "8db9bc0a",
   "metadata": {},
   "outputs": [
    {
     "name": "stdout",
     "output_type": "stream",
     "text": [
      "accuracy score = 0.9217619047619048\n",
      "kernel used =  linear\n",
      "C =  0.1\n",
      " degree =  3\n",
      "gamma  =  scale\n"
     ]
    }
   ],
   "source": [
    "SVM(0.1 , 'linear' , 0 ,0)"
   ]
  },
  {
   "attachments": {},
   "cell_type": "markdown",
   "id": "eb4a9d13",
   "metadata": {},
   "source": [
    "Computational time = 1 min 3 sec "
   ]
  },
  {
   "attachments": {},
   "cell_type": "markdown",
   "id": "bf5e5c81",
   "metadata": {},
   "source": [
    "#### 2) C =1"
   ]
  },
  {
   "cell_type": "code",
   "execution_count": 8,
   "id": "8860993b",
   "metadata": {},
   "outputs": [
    {
     "name": "stdout",
     "output_type": "stream",
     "text": [
      "accuracy score = 0.9113333333333333\n",
      "kernel used =  linear\n",
      "C =  1\n",
      " degree =  3\n",
      "gamma  =  scale\n"
     ]
    }
   ],
   "source": [
    "SVM(1 , 'linear' , 0 ,0)"
   ]
  },
  {
   "attachments": {},
   "cell_type": "markdown",
   "id": "0dd5552c",
   "metadata": {},
   "source": [
    "Computational time = 1 min"
   ]
  },
  {
   "cell_type": "code",
   "execution_count": 9,
   "id": "f0b9dc75",
   "metadata": {},
   "outputs": [
    {
     "name": "stdout",
     "output_type": "stream",
     "text": [
      "accuracy score = 0.9985714285714286\n",
      "kernel used =  linear\n",
      "C =  1\n",
      " degree =  3\n",
      "gamma  =  scale\n"
     ]
    }
   ],
   "source": [
    "SVM(1 , 'linear' , 0 ,0)"
   ]
  },
  {
   "attachments": {},
   "cell_type": "markdown",
   "id": "6e5518c5",
   "metadata": {},
   "source": [
    "3) C =10"
   ]
  },
  {
   "cell_type": "code",
   "execution_count": 9,
   "id": "717b2ef5",
   "metadata": {},
   "outputs": [
    {
     "name": "stdout",
     "output_type": "stream",
     "text": [
      "accuracy score = 0.9077142857142857\n",
      "kernel used =  linear\n",
      "C =  10\n",
      " degree =  3\n",
      "gamma  =  scale\n"
     ]
    }
   ],
   "source": [
    "SVM(10 , 'linear' , 0 ,0)"
   ]
  },
  {
   "attachments": {},
   "cell_type": "markdown",
   "id": "c64505e0",
   "metadata": {},
   "source": [
    "Computational time = 57 sec"
   ]
  },
  {
   "attachments": {},
   "cell_type": "markdown",
   "id": "60500f61",
   "metadata": {},
   "source": [
    "We can see that as C inreases regularization decreases. So does the time taken to process.\n",
    "\n",
    "We can also observe that accuracy decereases slightly as C increases.  "
   ]
  },
  {
   "attachments": {},
   "cell_type": "markdown",
   "id": "022c3224",
   "metadata": {},
   "source": [
    "## Gaussian Kernel (RBF)"
   ]
  },
  {
   "attachments": {},
   "cell_type": "markdown",
   "id": "0f343052",
   "metadata": {},
   "source": [
    "#### 1) Using default rbf kernel "
   ]
  },
  {
   "cell_type": "code",
   "execution_count": 10,
   "id": "48e6128f",
   "metadata": {},
   "outputs": [
    {
     "name": "stdout",
     "output_type": "stream",
     "text": [
      "accuracy score = 0.9515714285714286\n",
      "kernel used =  rbf\n",
      "C =  1\n",
      " degree =  3\n",
      "gamma  =  scale\n"
     ]
    }
   ],
   "source": [
    "SVM(0, 'rbf', 0, 0)"
   ]
  },
  {
   "attachments": {},
   "cell_type": "markdown",
   "id": "5cd38a7e",
   "metadata": {},
   "source": [
    "Computational time = 2 mins 38 sec"
   ]
  },
  {
   "attachments": {},
   "cell_type": "markdown",
   "id": "c6d90208",
   "metadata": {},
   "source": [
    "#### 2) rbf kernel with C =0.1, gamma  =1"
   ]
  },
  {
   "cell_type": "code",
   "execution_count": 11,
   "id": "3251a6d1",
   "metadata": {},
   "outputs": [
    {
     "name": "stdout",
     "output_type": "stream",
     "text": [
      "accuracy score = 0.11214285714285714\n",
      "kernel used =  rbf\n",
      "C =  0.1\n",
      " degree =  3\n",
      "gamma  =  1\n"
     ]
    }
   ],
   "source": [
    "SVM(0.1 , 'rbf' , 0 ,1)"
   ]
  },
  {
   "attachments": {},
   "cell_type": "markdown",
   "id": "d260be1c",
   "metadata": {},
   "source": [
    "Computational time = 11 min 5 sec"
   ]
  },
  {
   "attachments": {},
   "cell_type": "markdown",
   "id": "5f0faa21",
   "metadata": {},
   "source": [
    "#### 3) rbf kernel with C =1, gamma  =0.1"
   ]
  },
  {
   "cell_type": "code",
   "execution_count": 12,
   "id": "74fffe02",
   "metadata": {},
   "outputs": [
    {
     "name": "stdout",
     "output_type": "stream",
     "text": [
      "accuracy score = 0.17566666666666667\n",
      "kernel used =  rbf\n",
      "C =  1\n",
      " degree =  3\n",
      "gamma  =  0.1\n"
     ]
    }
   ],
   "source": [
    "SVM(1 , 'rbf' , 0 ,0.1)"
   ]
  },
  {
   "attachments": {},
   "cell_type": "markdown",
   "id": "eaa8f4be",
   "metadata": {},
   "source": [
    "Computational time = 10 min 41 sec"
   ]
  },
  {
   "attachments": {},
   "cell_type": "markdown",
   "id": "2a030d5f",
   "metadata": {},
   "source": [
    "We found kernel with normal parameters works best and fast. By changing gamma or C value accuracy has fallen drastically."
   ]
  },
  {
   "attachments": {},
   "cell_type": "markdown",
   "id": "99a58364",
   "metadata": {},
   "source": [
    "## Polynomial Kernel"
   ]
  },
  {
   "attachments": {},
   "cell_type": "markdown",
   "id": "7bc6407f",
   "metadata": {},
   "source": [
    "#### 1) Degree =2"
   ]
  },
  {
   "cell_type": "code",
   "execution_count": 13,
   "id": "1c533d8b",
   "metadata": {},
   "outputs": [
    {
     "name": "stdout",
     "output_type": "stream",
     "text": [
      "accuracy score = 0.9598095238095238\n",
      "kernel used =  poly\n",
      "C =  1\n",
      " degree =  2\n",
      "gamma  =  scale\n"
     ]
    }
   ],
   "source": [
    "SVM(1 , 'poly' , 2 ,0)"
   ]
  },
  {
   "attachments": {},
   "cell_type": "markdown",
   "id": "efe5db80",
   "metadata": {},
   "source": [
    "Computational time = 5 min 6 sec"
   ]
  },
  {
   "attachments": {},
   "cell_type": "markdown",
   "id": "70cb5f9e",
   "metadata": {},
   "source": [
    "#### 2) Degree = 4"
   ]
  },
  {
   "cell_type": "code",
   "execution_count": 14,
   "id": "12a28b4e",
   "metadata": {},
   "outputs": [
    {
     "name": "stdout",
     "output_type": "stream",
     "text": [
      "accuracy score = 0.8203333333333334\n",
      "kernel used =  poly\n",
      "C =  1\n",
      " degree =  4\n",
      "gamma  =  scale\n"
     ]
    }
   ],
   "source": [
    "SVM(1 , 'poly' , 4 ,0)"
   ]
  },
  {
   "attachments": {},
   "cell_type": "markdown",
   "id": "9ac1fea6",
   "metadata": {},
   "source": [
    "Computational time = 5 min"
   ]
  },
  {
   "attachments": {},
   "cell_type": "markdown",
   "id": "e42164f8",
   "metadata": {},
   "source": [
    "We found max accuracy with polynomial kernel with degree 2 for this data.\n",
    "Different degree works best for different data."
   ]
  },
  {
   "attachments": {},
   "cell_type": "markdown",
   "id": "06dd04ca",
   "metadata": {},
   "source": [
    "## Random Forest"
   ]
  },
  {
   "cell_type": "code",
   "execution_count": 6,
   "id": "d3e096b5",
   "metadata": {},
   "outputs": [
    {
     "name": "stdout",
     "output_type": "stream",
     "text": [
      "accuracy score=  95.61\n"
     ]
    }
   ],
   "source": [
    "RFclassifier10 = RandomForestClassifier(n_estimators= 100, criterion=\"entropy\")\n",
    "RFclassifier10.fit(X_train, Y_train)\n",
    "Y_pred= RFclassifier10.predict(X_test) \n",
    "RFacc10 = accuracy_score(Y_test, Y_pred)\n",
    "\n",
    "print(\"accuracy score= \", round(RFacc10*100,2))"
   ]
  },
  {
   "attachments": {},
   "cell_type": "markdown",
   "id": "3ff358af",
   "metadata": {},
   "source": [
    "Computational time = 19 sec"
   ]
  },
  {
   "attachments": {},
   "cell_type": "markdown",
   "id": "8552a02d",
   "metadata": {},
   "source": [
    "## Conclusion"
   ]
  },
  {
   "attachments": {},
   "cell_type": "markdown",
   "id": "0b961e9c",
   "metadata": {},
   "source": [
    "I would like to declare Random forest is better classifer than SVM. Since it has high accuracy score and was computed in just 19 second.\n",
    "\n",
    "In SVM for this dataset polynomial kernel with degree 2 gave maximum accuracy. The second best is rbf kerner without passing any parameters.\n",
    "\n",
    "In linear kernel the more we regularize data(decreasing C) the more accuracy we got although the computational time has increased."
   ]
  }
 ],
 "metadata": {
  "kernelspec": {
   "display_name": "Python 3 (ipykernel)",
   "language": "python",
   "name": "python3"
  },
  "language_info": {
   "codemirror_mode": {
    "name": "ipython",
    "version": 3
   },
   "file_extension": ".py",
   "mimetype": "text/x-python",
   "name": "python",
   "nbconvert_exporter": "python",
   "pygments_lexer": "ipython3",
   "version": "3.11.1"
  },
  "vscode": {
   "interpreter": {
    "hash": "fba346a7a3dd267636518bf98702366ee55352df23eeb36024b9e6f3021d9815"
   }
  }
 },
 "nbformat": 4,
 "nbformat_minor": 5
}
